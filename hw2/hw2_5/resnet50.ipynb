{
 "cells": [
  {
   "cell_type": "code",
   "execution_count": 9,
   "id": "240edf31",
   "metadata": {},
   "outputs": [],
   "source": [
    "from __future__ import print_function\n",
    "import os, cv2\n",
    "import torch\n",
    "import numpy as np\n",
    "import torch.nn as nn\n",
    "import torch.nn.functional as F\n",
    "import torch.optim as optim\n",
    "from torch.autograd import Variable\n",
    "import torchvision\n",
    "import torchvision.datasets as datasets\n",
    "import torchvision.transforms as transforms\n",
    "from torchsummary import summary\n",
    "import matplotlib.pyplot as plt\n",
    "from PIL import Image, ImageFile\n",
    "from tqdm import tqdm\n",
    "ImageFile.LOAD_TRUNCATED_IMAGES = True\n",
    "os.environ[\"CUDA_LAUNCH_BLOCKING\"] = \"1\"\n",
    "device = torch.device(\"cuda:0\" if torch.cuda.is_available() else \"cpu\")"
   ]
  },
  {
   "cell_type": "code",
   "execution_count": 10,
   "id": "56a3ed56",
   "metadata": {},
   "outputs": [],
   "source": [
    "transform = transforms.Compose([\n",
    "    transforms.Resize((224, 224)),\n",
    "    transforms.ToTensor(),\n",
    "    transforms.Normalize(\n",
    "        mean=[0.485, 0.456, 0.406],\n",
    "        std=[0.229, 0.224, 0.225]\n",
    "    )\n",
    "])\n",
    "\n",
    "batchSize = 30"
   ]
  },
  {
   "cell_type": "code",
   "execution_count": 11,
   "id": "cd03b06b",
   "metadata": {},
   "outputs": [
    {
     "name": "stdout",
     "output_type": "stream",
     "text": [
      "{'Cat': 0, 'Dog': 1}\n"
     ]
    }
   ],
   "source": [
    "# Read data\n",
    "trainData = datasets.ImageFolder(os.path.join(os.getcwd(), \"Dataset_OpenCvDl_Hw2_Q5\", \"training_dataset\"), transform=transform)\n",
    "validData = datasets.ImageFolder(os.path.join(os.getcwd(), \"Dataset_OpenCvDl_Hw2_Q5\", \"validation_dataset\"), transform=transform)\n",
    "trainLoader = torch.utils.data.DataLoader(trainData, batch_size=batchSize, shuffle=True)\n",
    "validLoader = torch.utils.data.DataLoader(validData, batch_size=batchSize, shuffle=True)\n",
    "print(trainData.class_to_idx)"
   ]
  },
  {
   "cell_type": "code",
   "execution_count": null,
   "id": "907b8bd8",
   "metadata": {},
   "outputs": [],
   "source": [
    "# Just show model\n",
    "model = torchvision.models.resnet50(pretrained=True)\n",
    "nrFilters = model.fc.in_features\n",
    "model.fc = nn.Linear(nrFilters, 1)\n",
    "model = model.to(device)\n",
    "summary(model, (3, 224, 224))"
   ]
  },
  {
   "cell_type": "code",
   "execution_count": 14,
   "id": "2aa39cd9",
   "metadata": {},
   "outputs": [],
   "source": [
    "def saveModel(lossF=\"BCE\"):\n",
    "    path = os.path.join(os.getcwd(), \"model_\"+lossF+\".pth\")\n",
    "    torch.save(model.state_dict(), path)\n",
    "\n",
    "def validAccuracy():\n",
    "    correct, total = 0, 0  # correct: 預測正確的個數, total: 總共預測個數\n",
    "    \n",
    "    with torch.no_grad():\n",
    "        for images, labels in validLoader:\n",
    "            images = images.to(device)\n",
    "            labels = labels.unsqueeze(1).float()\n",
    "            labels = labels.to(device)\n",
    "            \n",
    "            model.eval()\n",
    "            outputs = model(images)\n",
    "            total += labels.size(0)\n",
    "            outputs = torch.sigmoid(outputs)\n",
    "            predicts = np.array([0 if x <= 0.5 else 1 for x in outputs.detach().cpu().numpy().ravel()])\n",
    "            correct += np.size( np.where(predicts == labels.detach().cpu().numpy().astype(np.int32).ravel()) )\n",
    "\n",
    "    accuracy = 100 * correct / total\n",
    "    return accuracy\n",
    "            \n",
    "def train(lossF=\"BCE\"):\n",
    "    trainAcces, validAcces = list(), list()\n",
    "    epochNum = 10\n",
    "    optimizer = optim.Adam(model.fc.parameters())\n",
    "    if lossF == \"Focal\":\n",
    "        lossFunc = torchvision.ops.sigmoid_focal_loss\n",
    "    elif lossF == \"BCE\":\n",
    "        lossFunc = nn.BCEWithLogitsLoss()\n",
    "\n",
    "    print(\"Device: \", device)\n",
    "    bestAcc = 0.0\n",
    "    \n",
    "    for epoch in range(epochNum):\n",
    "        print(\"Epoch num:\", epoch+1)\n",
    "        lossTotal = 0.0\n",
    "        correct, total = 0, 0\n",
    "        \n",
    "        for i, (images, labels) in enumerate(tqdm(trainLoader)):\n",
    "            images = images.to(device)\n",
    "            labels = labels.unsqueeze(1).float()\n",
    "            labels = labels.to(device)\n",
    "            \n",
    "            optimizer.zero_grad()\n",
    "            \n",
    "            outputs = model(images)\n",
    "            model.train()\n",
    "            if lossF == \"Focal\":\n",
    "                loss = lossFunc(outputs, labels, reduction=\"mean\")\n",
    "            else:\n",
    "                loss = lossFunc(outputs, labels)\n",
    "            lossTotal += loss.item()\n",
    "            loss.backward()\n",
    "            optimizer.step()\n",
    "            \n",
    "            total += labels.size(0)\n",
    "            outputs = torch.sigmoid(outputs)\n",
    "            predicts = np.array([0 if x <= 0.5 else 1 for x in outputs.detach().cpu().numpy().ravel()])\n",
    "            correct += np.size( np.where(predicts == labels.detach().cpu().numpy().astype(np.int32).ravel()) )\n",
    "#             print(outputs.detach().cpu().numpy().ravel(), predicts, labels.detach().cpu().numpy().astype(np.int32).ravel(), \"correct: \"+str(correct), sep=\"\\n\")#;break;\n",
    "\n",
    "        # Compute train and validation accuracy\n",
    "        trainAcc = 100 * correct / total\n",
    "        validAcc = validAccuracy()\n",
    "        trainAcces.append(trainAcc)\n",
    "        validAcces.append(validAcc)\n",
    "        lossAvg = lossTotal / (total / batchSize)\n",
    "        \n",
    "        print(\"The loss of training set is %.3f\" % (lossAvg))\n",
    "        print(\"The training accuracy is %d %%\" % (trainAcc))\n",
    "        print(\"The validation accruacy is %d %%\" % (validAcc))\n",
    "        print()\n",
    "        \n",
    "#         # save model\n",
    "#         if validAcc > bestAcc:\n",
    "#             saveModel(lossF)\n",
    "#             bestAcc = validAcc\n",
    "        saveModel(lossF)\n",
    "            \n",
    "    return trainAcces, validAcces"
   ]
  },
  {
   "cell_type": "code",
   "execution_count": 15,
   "id": "cb25e7bf",
   "metadata": {},
   "outputs": [
    {
     "name": "stdout",
     "output_type": "stream",
     "text": [
      "Device:  cuda:0\n",
      "Epoch num: 1\n"
     ]
    },
    {
     "name": "stderr",
     "output_type": "stream",
     "text": [
      "100%|█████████████████████████████████████████| 540/540 [01:39<00:00,  5.44it/s]\n"
     ]
    },
    {
     "name": "stdout",
     "output_type": "stream",
     "text": [
      "The loss of training set is 0.011\n",
      "The training accuracy is 95 %\n",
      "The validation accruacy is 97 %\n",
      "\n",
      "Epoch num: 2\n"
     ]
    },
    {
     "name": "stderr",
     "output_type": "stream",
     "text": [
      "100%|█████████████████████████████████████████| 540/540 [01:39<00:00,  5.44it/s]\n"
     ]
    },
    {
     "name": "stdout",
     "output_type": "stream",
     "text": [
      "The loss of training set is 0.008\n",
      "The training accuracy is 97 %\n",
      "The validation accruacy is 96 %\n",
      "\n",
      "Epoch num: 3\n"
     ]
    },
    {
     "name": "stderr",
     "output_type": "stream",
     "text": [
      "100%|█████████████████████████████████████████| 540/540 [01:39<00:00,  5.42it/s]\n"
     ]
    },
    {
     "name": "stdout",
     "output_type": "stream",
     "text": [
      "The loss of training set is 0.007\n",
      "The training accuracy is 97 %\n",
      "The validation accruacy is 98 %\n",
      "\n",
      "Epoch num: 4\n"
     ]
    },
    {
     "name": "stderr",
     "output_type": "stream",
     "text": [
      "100%|█████████████████████████████████████████| 540/540 [01:39<00:00,  5.42it/s]\n"
     ]
    },
    {
     "name": "stdout",
     "output_type": "stream",
     "text": [
      "The loss of training set is 0.007\n",
      "The training accuracy is 97 %\n",
      "The validation accruacy is 96 %\n",
      "\n",
      "Epoch num: 5\n"
     ]
    },
    {
     "name": "stderr",
     "output_type": "stream",
     "text": [
      "100%|█████████████████████████████████████████| 540/540 [01:39<00:00,  5.43it/s]\n"
     ]
    },
    {
     "name": "stdout",
     "output_type": "stream",
     "text": [
      "The loss of training set is 0.006\n",
      "The training accuracy is 97 %\n",
      "The validation accruacy is 98 %\n",
      "\n",
      "Epoch num: 6\n"
     ]
    },
    {
     "name": "stderr",
     "output_type": "stream",
     "text": [
      "100%|█████████████████████████████████████████| 540/540 [01:39<00:00,  5.43it/s]\n"
     ]
    },
    {
     "name": "stdout",
     "output_type": "stream",
     "text": [
      "The loss of training set is 0.006\n",
      "The training accuracy is 97 %\n",
      "The validation accruacy is 98 %\n",
      "\n",
      "Epoch num: 7\n"
     ]
    },
    {
     "name": "stderr",
     "output_type": "stream",
     "text": [
      "100%|█████████████████████████████████████████| 540/540 [01:39<00:00,  5.42it/s]\n"
     ]
    },
    {
     "name": "stdout",
     "output_type": "stream",
     "text": [
      "The loss of training set is 0.007\n",
      "The training accuracy is 97 %\n",
      "The validation accruacy is 96 %\n",
      "\n",
      "Epoch num: 8\n"
     ]
    },
    {
     "name": "stderr",
     "output_type": "stream",
     "text": [
      "100%|█████████████████████████████████████████| 540/540 [01:39<00:00,  5.44it/s]\n"
     ]
    },
    {
     "name": "stdout",
     "output_type": "stream",
     "text": [
      "The loss of training set is 0.006\n",
      "The training accuracy is 97 %\n",
      "The validation accruacy is 97 %\n",
      "\n",
      "Epoch num: 9\n"
     ]
    },
    {
     "name": "stderr",
     "output_type": "stream",
     "text": [
      "100%|█████████████████████████████████████████| 540/540 [01:39<00:00,  5.42it/s]\n"
     ]
    },
    {
     "name": "stdout",
     "output_type": "stream",
     "text": [
      "The loss of training set is 0.007\n",
      "The training accuracy is 97 %\n",
      "The validation accruacy is 97 %\n",
      "\n",
      "Epoch num: 10\n"
     ]
    },
    {
     "name": "stderr",
     "output_type": "stream",
     "text": [
      "100%|█████████████████████████████████████████| 540/540 [01:40<00:00,  5.39it/s]\n"
     ]
    },
    {
     "name": "stdout",
     "output_type": "stream",
     "text": [
      "The loss of training set is 0.008\n",
      "The training accuracy is 97 %\n",
      "The validation accruacy is 98 %\n",
      "\n"
     ]
    }
   ],
   "source": [
    "# Focal Loss\n",
    "model = torchvision.models.resnet50(pretrained=True)\n",
    "\n",
    "for params in model.parameters():\n",
    "    params.requires_grad_ = False\n",
    "nrFilters = model.fc.in_features\n",
    "model.fc = nn.Linear(nrFilters, 1)\n",
    "\n",
    "model = model.to(device)\n",
    "trainAcces, validAcces = train(\"Focal\")"
   ]
  },
  {
   "cell_type": "code",
   "execution_count": 16,
   "id": "33517253",
   "metadata": {},
   "outputs": [
    {
     "name": "stdout",
     "output_type": "stream",
     "text": [
      "Device:  cuda:0\n",
      "Epoch num: 1\n"
     ]
    },
    {
     "name": "stderr",
     "output_type": "stream",
     "text": [
      "100%|█████████████████████████████████████████| 540/540 [01:39<00:00,  5.42it/s]\n"
     ]
    },
    {
     "name": "stdout",
     "output_type": "stream",
     "text": [
      "The loss of training set is 0.102\n",
      "The training accuracy is 96 %\n",
      "The validation accruacy is 98 %\n",
      "\n",
      "Epoch num: 2\n"
     ]
    },
    {
     "name": "stderr",
     "output_type": "stream",
     "text": [
      "100%|█████████████████████████████████████████| 540/540 [01:41<00:00,  5.31it/s]\n"
     ]
    },
    {
     "name": "stdout",
     "output_type": "stream",
     "text": [
      "The loss of training set is 0.061\n",
      "The training accuracy is 97 %\n",
      "The validation accruacy is 98 %\n",
      "\n",
      "Epoch num: 3\n"
     ]
    },
    {
     "name": "stderr",
     "output_type": "stream",
     "text": [
      "100%|█████████████████████████████████████████| 540/540 [01:40<00:00,  5.39it/s]\n"
     ]
    },
    {
     "name": "stdout",
     "output_type": "stream",
     "text": [
      "The loss of training set is 0.057\n",
      "The training accuracy is 97 %\n",
      "The validation accruacy is 98 %\n",
      "\n",
      "Epoch num: 4\n"
     ]
    },
    {
     "name": "stderr",
     "output_type": "stream",
     "text": [
      "100%|█████████████████████████████████████████| 540/540 [01:40<00:00,  5.38it/s]\n"
     ]
    },
    {
     "name": "stdout",
     "output_type": "stream",
     "text": [
      "The loss of training set is 0.055\n",
      "The training accuracy is 97 %\n",
      "The validation accruacy is 98 %\n",
      "\n",
      "Epoch num: 5\n"
     ]
    },
    {
     "name": "stderr",
     "output_type": "stream",
     "text": [
      "100%|█████████████████████████████████████████| 540/540 [01:41<00:00,  5.34it/s]\n"
     ]
    },
    {
     "name": "stdout",
     "output_type": "stream",
     "text": [
      "The loss of training set is 0.047\n",
      "The training accuracy is 98 %\n",
      "The validation accruacy is 98 %\n",
      "\n",
      "Epoch num: 6\n"
     ]
    },
    {
     "name": "stderr",
     "output_type": "stream",
     "text": [
      "100%|█████████████████████████████████████████| 540/540 [01:40<00:00,  5.36it/s]\n"
     ]
    },
    {
     "name": "stdout",
     "output_type": "stream",
     "text": [
      "The loss of training set is 0.049\n",
      "The training accuracy is 98 %\n",
      "The validation accruacy is 98 %\n",
      "\n",
      "Epoch num: 7\n"
     ]
    },
    {
     "name": "stderr",
     "output_type": "stream",
     "text": [
      "100%|█████████████████████████████████████████| 540/540 [01:39<00:00,  5.41it/s]\n"
     ]
    },
    {
     "name": "stdout",
     "output_type": "stream",
     "text": [
      "The loss of training set is 0.048\n",
      "The training accuracy is 98 %\n",
      "The validation accruacy is 98 %\n",
      "\n",
      "Epoch num: 8\n"
     ]
    },
    {
     "name": "stderr",
     "output_type": "stream",
     "text": [
      "100%|█████████████████████████████████████████| 540/540 [01:40<00:00,  5.39it/s]\n"
     ]
    },
    {
     "name": "stdout",
     "output_type": "stream",
     "text": [
      "The loss of training set is 0.048\n",
      "The training accuracy is 98 %\n",
      "The validation accruacy is 98 %\n",
      "\n",
      "Epoch num: 9\n"
     ]
    },
    {
     "name": "stderr",
     "output_type": "stream",
     "text": [
      "100%|█████████████████████████████████████████| 540/540 [01:39<00:00,  5.42it/s]\n"
     ]
    },
    {
     "name": "stdout",
     "output_type": "stream",
     "text": [
      "The loss of training set is 0.050\n",
      "The training accuracy is 98 %\n",
      "The validation accruacy is 98 %\n",
      "\n",
      "Epoch num: 10\n"
     ]
    },
    {
     "name": "stderr",
     "output_type": "stream",
     "text": [
      "100%|█████████████████████████████████████████| 540/540 [01:39<00:00,  5.40it/s]\n"
     ]
    },
    {
     "name": "stdout",
     "output_type": "stream",
     "text": [
      "The loss of training set is 0.048\n",
      "The training accuracy is 98 %\n",
      "The validation accruacy is 98 %\n",
      "\n"
     ]
    }
   ],
   "source": [
    "# BCE Loss\n",
    "model = torchvision.models.resnet50(pretrained=True)\n",
    "\n",
    "for params in model.parameters():\n",
    "    params.requires_grad_ = False\n",
    "nrFilters = model.fc.in_features\n",
    "model.fc = nn.Linear(nrFilters, 1)\n",
    "\n",
    "model = model.to(device)\n",
    "trainAcces, validAcces = train(\"BCE\")"
   ]
  },
  {
   "cell_type": "code",
   "execution_count": 18,
   "id": "0135f386",
   "metadata": {},
   "outputs": [
    {
     "data": {
      "image/png": "[encoded data removed]",
      "text/plain": [
       "<Figure size 640x480 with 1 Axes>"
      ]
     },
     "metadata": {},
     "output_type": "display_data"
    }
   ],
   "source": [
    "# transform\n",
    "transform = transforms.Compose([\n",
    "    transforms.Resize((224, 224)),\n",
    "    transforms.ToTensor(),\n",
    "    transforms.Normalize(\n",
    "        mean=[0.485, 0.456, 0.406],\n",
    "        std=[0.229, 0.224, 0.225]\n",
    "    )\n",
    "])\n",
    "batchSize = 20\n",
    "\n",
    "# Load Data\n",
    "validData = datasets.ImageFolder(os.path.join(os.getcwd(), \"Dataset_OpenCvDl_Hw2_Q5\", \"validation_dataset\"), transform=transform)\n",
    "validLoader = torch.utils.data.DataLoader(validData, batch_size=batchSize, shuffle=True)\n",
    "\n",
    "# Compute accruacy\n",
    "def compute(model):\n",
    "    correct, total = 0, 0\n",
    "    for images, labels in validLoader:\n",
    "        images = images.to(device)\n",
    "        labels = labels.unsqueeze(1).float()\n",
    "        labels = labels.to(device)\n",
    "\n",
    "        model.eval()\n",
    "        outputs = model(images)\n",
    "        total += labels.size(0)\n",
    "        outputs = torch.sigmoid(outputs)\n",
    "        predicts = np.array([0 if x <= 0.5 else 1 for x in outputs.detach().cpu().numpy().ravel()])\n",
    "        correct += np.size( np.where(predicts == labels.detach().cpu().numpy().astype(np.int32).ravel()) )\n",
    "    acc = 100 * correct / total\n",
    "    return acc\n",
    "\n",
    "# Validation Accruacy of Focal Loss\n",
    "modelFocal = torchvision.models.resnet50()\n",
    "fcIn = modelFocal.fc.in_features\n",
    "modelFocal.fc = nn.Linear(fcIn, 1)\n",
    "modelFocal.to(device)\n",
    "modelFocal.load_state_dict( torch.load( os.path.join(os.getcwd(), \"model_Focal.pth\") ) )\n",
    "accF = compute(modelFocal)\n",
    "\n",
    "# Validation Accuracy of BCE Loss\n",
    "modelBCE = torchvision.models.resnet50()\n",
    "fcIn = modelBCE.fc.in_features\n",
    "modelBCE.fc = nn.Linear(fcIn, 1)\n",
    "modelBCE.to(device)\n",
    "modelBCE.load_state_dict( torch.load( os.path.join(os.getcwd(), \"model_BCE.pth\") ) )\n",
    "accB = compute(modelBCE)\n",
    "\n",
    "# Plot both accuracy\n",
    "path = os.path.join(os.getcwd(), \"\")\n",
    "\n",
    "x = [\"Binary Cross Entropy\", \"Focal Loss\"]\n",
    "y = [accB, accF]\n",
    "plt.ylim(0, 120)\n",
    "plt.ylabel(\"Accuracy (%)\")\n",
    "plt.title(\"Accuracy Comparison\")\n",
    "accImg = plt.bar(x, y)\n",
    "\n",
    "for idx, acc in enumerate(y):\n",
    "    plt.text(idx, acc+2, str(round(acc, 2)), ha=\"center\", va=\"bottom\")\n",
    "\n",
    "plt.savefig(\"accCompare.png\")\n",
    "plt.show()"
   ]
  },
  {
   "cell_type": "code",
   "execution_count": 79,
   "id": "fb48f232",
   "metadata": {},
   "outputs": [
    {
     "data": {
      "image/png": "[encoded data removed]",
      "text/plain": [
       "<Figure size 640x480 with 1 Axes>"
      ]
     },
     "metadata": {},
     "output_type": "display_data"
    }
   ],
   "source": [
    "def plot(trainAcc, testAcc):\n",
    "    # Accuracy plt\n",
    "    plt.title(\"Accuracy\")\n",
    "    plt.xlabel(\"epoch\")\n",
    "    plt.ylabel(\"%\")\n",
    "    numLst = list( range(1, len(trainAcc)+1) )\n",
    "    plt.plot(numLst, trainAcc, label=\"Training\", linewidth=2.5)\n",
    "    plt.plot(numLst, testAcc, label=\"Testing\")\n",
    "    plt.legend()\n",
    "    \n",
    "    plt.savefig(\"Acc.png\")\n",
    "    plt.show()\n",
    "    \n",
    "plot(trainAcces, validAcces)"
   ]
  },
  {
   "cell_type": "code",
   "execution_count": 11,
   "id": "8f083348",
   "metadata": {},
   "outputs": [
    {
     "name": "stdout",
     "output_type": "stream",
     "text": [
      "torch.Size([3, 224, 224])\n",
      "tensor([[-11.4964],\n",
      "        [-13.4164],\n",
      "        [ 10.9067],\n",
      "        [ 13.3147],\n",
      "        [-12.8259]], device='cuda:0', grad_fn=<AddmmBackward0>)\n",
      "[1.01665355e-05 1.49050607e-06 9.99981642e-01 9.99998331e-01\n",
      " 2.69028942e-06]\n",
      "[0 0 1 1 0]\n",
      "[0 0 1 1 0]\n",
      "correct: 5\n",
      "torch.Size([3, 224, 224])\n",
      "tensor([[-10.0830],\n",
      "        [  4.8845],\n",
      "        [-15.4755],\n",
      "        [  7.8142],\n",
      "        [  5.9207]], device='cuda:0', grad_fn=<AddmmBackward0>)\n",
      "[4.1782681e-05 9.9249387e-01 1.9014202e-07 9.9959618e-01 9.9732375e-01]\n",
      "[0 1 0 1 1]\n",
      "[0 1 0 1 1]\n",
      "correct: 10\n"
     ]
    }
   ],
   "source": [
    "testData = datasets.ImageFolder(os.path.join(os.getcwd(), \"inference_dataset\"), transform=transform)\n",
    "testLoader = torch.utils.data.DataLoader(testData, batch_size=5, shuffle=True)\n",
    "correct, total = 0, 0\n",
    "\n",
    "model = torchvision.models.resnet50()\n",
    "fcIn = model.fc.in_features\n",
    "model.fc = nn.Linear(fcIn, 1)\n",
    "model.to(device)\n",
    "model.load_state_dict( torch.load( os.path.join(os.getcwd(), \"model_BCE_prv.pth\") ) )\n",
    "\n",
    "for images, labels in testLoader:\n",
    "    print(images[0].shape)\n",
    "    images = images.to(device)\n",
    "    labels = labels.unsqueeze(1).float()\n",
    "    labels = labels.to(device)\n",
    "\n",
    "    model.eval()\n",
    "    outputs = model(images)\n",
    "    total += labels.size(0)\n",
    "    print(outputs)\n",
    "    outputs = torch.sigmoid(outputs)\n",
    "    predicts = np.array([0 if x <= 0.5 else 1 for x in outputs.detach().cpu().numpy().ravel()])\n",
    "    correct += np.size( np.where(predicts == labels.detach().cpu().numpy().astype(np.int32).ravel()) )\n",
    "    print(outputs.detach().cpu().numpy().ravel(), predicts, labels.detach().cpu().numpy().astype(np.int32).ravel(), \"correct: \"+str(correct), sep=\"\\n\")#;break;\n",
    "    "
   ]
  },
  {
   "cell_type": "code",
   "execution_count": 9,
   "id": "2b5568ba",
   "metadata": {},
   "outputs": [
    {
     "data": {
      "image/png": "[encoded data removed]",
      "text/plain": [
       "<Figure size 640x480 with 1 Axes>"
      ]
     },
     "metadata": {},
     "output_type": "display_data"
    }
   ],
   "source": [
    "# Plot training dataset distrubution\n",
    "path = os.path.join(os.getcwd(), \"\")\n",
    "catLen = len( os.listdir( os.path.join(os.getcwd(), \"Dataset_OpenCvDl_Hw2_Q5\", \"training_dataset\", \"Cat\") ) )\n",
    "dogLen = len( os.listdir( os.path.join(os.getcwd(), \"Dataset_OpenCvDl_Hw2_Q5\", \"training_dataset\", \"Dog\") ) )\n",
    "\n",
    "x = [\"Cat\", \"Dog\"]\n",
    "y = [catLen, dogLen]\n",
    "plt.ylabel(\"Number of images\")\n",
    "plt.ylim(0, 12000)\n",
    "plt.title(\"Class Distribution\")\n",
    "dtb = plt.bar(x, y)\n",
    "\n",
    "for idx, cLen in enumerate(y):\n",
    "    plt.text(idx, cLen+50, str(cLen), ha=\"center\", va=\"bottom\")\n",
    "\n",
    "plt.savefig(\"distribution.png\")\n",
    "plt.show()"
   ]
  }
 ],
 "metadata": {
  "kernelspec": {
   "display_name": "Python 3 (ipykernel)",
   "language": "python",
   "name": "python3"
  },
  "language_info": {
   "codemirror_mode": {
    "name": "ipython",
    "version": 3
   },
   "file_extension": ".py",
   "mimetype": "text/x-python",
   "name": "python",
   "nbconvert_exporter": "python",
   "pygments_lexer": "ipython3",
   "version": "3.7.13"
  },
  "vscode": {
   "interpreter": {
    "hash": "d5f4721a55bebacfd85a907324bca44fd0ec481b9d00909ccd736244dc13b67a"
   }
  }
 },
 "nbformat": 4,
 "nbformat_minor": 5
}
